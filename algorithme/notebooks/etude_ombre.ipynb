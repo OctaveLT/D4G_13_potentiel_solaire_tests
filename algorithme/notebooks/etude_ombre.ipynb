{
 "cells": [
  {
   "cell_type": "markdown",
   "metadata": {},
   "source": [
    "## Analyse d'ombre sur un établissement de St denis"
   ]
  },
  {
   "cell_type": "markdown",
   "metadata": {},
   "source": [
    "### Imports"
   ]
  },
  {
   "cell_type": "code",
   "execution_count": null,
   "metadata": {},
   "outputs": [],
   "source": [
    "import geopandas as gpd\n",
    "import pandas as pd\n",
    "import matplotlib.pyplot as plt\n",
    "import contextily as cx\n",
    "from shapely.affinity import translate\n",
    "from pathlib import Path\n",
    "import numpy as np"
   ]
  },
  {
   "cell_type": "markdown",
   "metadata": {},
   "source": [
    "### Chargement des Bâtiments et Zones Éducatives"
   ]
  },
  {
   "cell_type": "code",
   "execution_count": null,
   "metadata": {},
   "outputs": [],
   "source": [
    "DATA_FOLDER = Path(\"../data\")\n",
    "\n",
    "saint_denis_path = DATA_FOLDER / \"saint_denis_reference_data.gpkg\"\n",
    "\n",
    "ecoles = gpd.read_file(saint_denis_path, layer=\"bdtopo_education\").to_crs(2154)\n",
    "batiments = gpd.read_file(saint_denis_path, layer=\"bdtopo_batiment\").to_crs(2154)"
   ]
  },
  {
   "cell_type": "markdown",
   "metadata": {},
   "source": [
    "### Préparation des données pour l'analyse des ombres"
   ]
  },
  {
   "cell_type": "code",
   "execution_count": null,
   "metadata": {},
   "outputs": [],
   "source": [
    "\n",
    "ecole_cible = ecoles.iloc[[6]]  # On prend la 6ème école par exemple\n",
    "\n",
    "#Vérification de la hauteur \n",
    "if \"hauteur\" in batiments.columns:\n",
    "    hauteur_ecole = batiments.loc[batiments[\"cleabs_right__bat\"] == ecole_cible[\"cleabs_right\"].iloc[0], \"hauteur\"]\n",
    "    if not hauteur_ecole.empty:\n",
    "        hauteur_ecole = float(hauteur_ecole.iloc[0])\n",
    "    else:\n",
    "        raise ValueError(\"None\")\n",
    "else:\n",
    "    raise KeyError(\"None\")\n",
    "\n",
    "\n",
    "batiments[\"distance\"] = batiments.geometry.distance(ecole_cible.geometry.iloc[0])\n",
    "\n",
    "rayon = 100  #rayon de 100m\n",
    "batiments_voisins = batiments[batiments[\"distance\"] < rayon].copy()\n",
    "\n",
    "batiments_voisins[\"hauteur\"] = pd.to_numeric(batiments_voisins[\"hauteur\"], errors=\"coerce\")\n",
    "\n",
    "batiments_plus_hauts = batiments_voisins[batiments_voisins[\"hauteur\"] > hauteur_ecole]"
   ]
  },
  {
   "cell_type": "markdown",
   "metadata": {},
   "source": [
    "### Calcul de l'ombre projetée en fonction des 4 jours clés"
   ]
  },
  {
   "cell_type": "code",
   "execution_count": null,
   "metadata": {},
   "outputs": [],
   "source": [
    "\n",
    "saisons = {\n",
    "    \"hiver\": 15,       # Soleil bas en hiver (21 décembre)\n",
    "    \"printemps\": 45,   # Équinoxe (21 mars)\n",
    "    \"été\": 75,         # Soleil haut en été (21 juin)\n",
    "    \"automne\": 45      # Équinoxe (21 septembre)\n",
    "}\n",
    "\n",
    "jours_cles = [\"hiver\", \"printemps\", \"été\", \"automne\"]"
   ]
  },
  {
   "cell_type": "markdown",
   "metadata": {},
   "source": [
    "### Visualisation comprenant les ombres des bâtiment voisins sur les toits (non sur le sol)"
   ]
  },
  {
   "cell_type": "code",
   "execution_count": null,
   "metadata": {},
   "outputs": [],
   "source": [
    "\n",
    "fig, axes = plt.subplots(2, 2, figsize=(16, 12))\n",
    "axes = axes.flatten()\n",
    "\n",
    "for i, saison in enumerate(jours_cles):\n",
    "    angle_solaire = np.radians(saisons[saison])\n",
    "    ombres_toit = []\n",
    "    \n",
    "    for _, row in batiments_plus_hauts.iterrows():\n",
    "        hauteur_relative = row[\"hauteur\"] - hauteur_ecole\n",
    "        distance_ombre = hauteur_relative / np.tan(angle_solaire)\n",
    "        \n",
    "       \n",
    "        deplacement_x = distance_ombre * np.cos(np.radians(45))\n",
    "        deplacement_y = distance_ombre * np.sin(np.radians(45))\n",
    "        ombre_projetee = translate(row[\"geometry\"], xoff=deplacement_x, yoff=deplacement_y)\n",
    "        \n",
    "        \n",
    "        intersection = batiments_voisins.intersects(ombre_projetee)\n",
    "        if intersection.any():\n",
    "            ombres_toit.append(ombre_projetee)\n",
    "    \n",
    "    ombre_toit_gdf = gpd.GeoDataFrame(geometry=ombres_toit, crs=2154)\n",
    "    \n",
    "    batiments_voisins.plot(ax=axes[i], color=\"none\", edgecolor=\"black\", linewidth=0.8)\n",
    "    ombre_toit_gdf.plot(ax=axes[i], color=\"grey\", alpha=0.7, label=f\"Ombres sur toits - {saison}\")\n",
    "    cx.add_basemap(axes[i], crs=batiments_voisins.crs, source=cx.providers.OpenStreetMap.Mapnik)\n",
    "    axes[i].set_title(f\"Projection des ombres sur les toits - {saison.capitalize()}\")\n",
    "\n",
    "plt.tight_layout()\n",
    "plt.show()\n"
   ]
  }
 ],
 "metadata": {
  "kernelspec": {
   "display_name": ".venv",
   "language": "python",
   "name": "python3"
  },
  "language_info": {
   "codemirror_mode": {
    "name": "ipython",
    "version": 3
   },
   "file_extension": ".py",
   "mimetype": "text/x-python",
   "name": "python",
   "nbconvert_exporter": "python",
   "pygments_lexer": "ipython3",
   "version": "3.12.6"
  }
 },
 "nbformat": 4,
 "nbformat_minor": 2
}
