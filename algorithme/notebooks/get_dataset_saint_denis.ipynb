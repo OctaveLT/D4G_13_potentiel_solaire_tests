{
 "cells": [
  {
   "cell_type": "code",
   "execution_count": 13,
   "metadata": {},
   "outputs": [],
   "source": [
    "import geopandas as gpd\n",
    "from pathlib import Path\n",
    "import fiona\n",
    "\n",
    "# Potentiel solaire package\n",
    "from potentiel_solaire.constants import DATA_FOLDER"
   ]
  },
  {
   "cell_type": "markdown",
   "metadata": {},
   "source": [
    "### Extraction : BDTOPO"
   ]
  },
  {
   "cell_type": "code",
   "execution_count": 25,
   "metadata": {},
   "outputs": [],
   "source": [
    "GPKG = DATA_FOLDER / \"BDTOPO_3-4_TOUSTHEMES_GPKG_LAMB93_D093_2024-12-15/BDTOPO/1_DONNEES_LIVRAISON_2024-12-00134/BDT_3-4_GPKG_LAMB93_D093-ED2024-12-15/BDT_3-4_GPKG_LAMB93_D093-ED2024-12-15.gpkg\"\n",
    "communes = gpd.read_file(GPKG, layer=\"commune\")\n",
    "saint_denis = communes[communes.code_insee == \"93066\"].to_crs(4326)"
   ]
  },
  {
   "cell_type": "code",
   "execution_count": 16,
   "metadata": {},
   "outputs": [],
   "source": [
    "# Takes 50s on my laptop (old)\n",
    "\n",
    "# Batiments\n",
    "bats = gpd.read_file(GPKG, layer=\"batiment\")\n",
    "bats = bats.to_crs(4326)\n",
    "bats_st_denis = gpd.sjoin(bats, saint_denis, how='inner', predicate='intersects')\n",
    "\n",
    "# Zones d'activité (éducation)\n",
    "bdedu = gpd.read_file(GPKG, layer=\"zone_d_activite_ou_d_interet\")\n",
    "bdedu = bdedu.to_crs(4326)\n",
    "bdedu = bdedu[bdedu[\"categorie\"] == \"Science et enseignement\"]\n",
    "bdedu_st_denis = gpd.sjoin(bdedu, saint_denis, how='inner', predicate='intersects')"
   ]
  },
  {
   "cell_type": "markdown",
   "metadata": {},
   "source": [
    "### Extraction : Annuaire éducation"
   ]
  },
  {
   "cell_type": "code",
   "execution_count": 17,
   "metadata": {},
   "outputs": [],
   "source": [
    "# Takes 12s on my laptop \n",
    "\n",
    "annuaire = gpd.read_file(DATA_FOLDER / 'fr-en-annuaire-education.geojson')\n",
    "annuaire = annuaire.to_crs(4326)\n",
    "annuaire_st_denis = gpd.sjoin(annuaire, saint_denis, how='inner', predicate='within')"
   ]
  },
  {
   "cell_type": "markdown",
   "metadata": {},
   "source": [
    "### Extraction : Plan Cadastrale Informatisé (PCI)"
   ]
  },
  {
   "cell_type": "code",
   "execution_count": 24,
   "metadata": {},
   "outputs": [],
   "source": [
    "# Takes 10s on my laptop\n",
    "\n",
    "pci = gpd.read_file(DATA_FOLDER / \"PARCELLAIRE-EXPRESS_1-1__SHP_LAMB93_D093_2024-10-01/PARCELLAIRE-EXPRESS/1_DONNEES_LIVRAISON_2024-11-00210/PEPCI_1-1_SHP_LAMB93_D093/BATIMENT.SHP\")\n",
    "\n",
    "pci = pci.to_crs(4326)\n",
    "pci_st_denis = gpd.sjoin(pci, saint_denis, how='inner', predicate='intersects')"
   ]
  },
  {
   "cell_type": "markdown",
   "metadata": {},
   "source": [
    "### Sauvegarder en Geopackage\n"
   ]
  },
  {
   "cell_type": "code",
   "execution_count": 22,
   "metadata": {},
   "outputs": [],
   "source": [
    "output_gpkg = DATA_FOLDER / \"saint_denis_reference_data.gpkg\"\n",
    "\n",
    "annuaire_st_denis.to_file(output_gpkg, layer='annuaire_education', driver=\"GPKG\")\n",
    "bats_st_denis.to_file(output_gpkg, layer='bdtopo_batiment', driver=\"GPKG\")\n",
    "bdedu_st_denis.to_file(output_gpkg, layer='bdtopo_education', driver=\"GPKG\")\n",
    "pci_st_denis.to_file(output_gpkg, layer='cadastre_parcellaire', driver=\"GPKG\")"
   ]
  },
  {
   "cell_type": "markdown",
   "metadata": {},
   "source": [
    "### Visualiser le package créé "
   ]
  },
  {
   "cell_type": "code",
   "execution_count": 23,
   "metadata": {},
   "outputs": [
    {
     "name": "stdout",
     "output_type": "stream",
     "text": [
      "\n",
      "=== Couche: annuaire_education ===\n",
      "Nombre d'objets: 107\n",
      "Colonnes disponibles: ['identifiant_de_l_etablissement', 'nom_etablissement', 'type_etablissement', 'statut_public_prive', 'adresse_1', 'adresse_2', 'adresse_3', 'code_postal_left', 'code_commune', 'nom_commune', 'code_departement', 'code_academie', 'code_region', 'ecole_maternelle', 'ecole_elementaire', 'voie_generale', 'voie_technologique', 'voie_professionnelle', 'telephone', 'fax', 'web', 'mail', 'restauration', 'hebergement', 'ulis', 'apprentissage', 'segpa', 'section_arts', 'section_cinema', 'section_theatre', 'section_sport', 'section_internationale', 'section_europeenne', 'lycee_agricole', 'lycee_militaire', 'lycee_des_metiers', 'post_bac', 'appartenance_education_prioritaire', 'greta', 'siren_siret', 'nombre_d_eleves', 'fiche_onisep', 'position', 'type_contrat_prive', 'libelle_departement', 'libelle_academie', 'libelle_region', 'coordx_origine', 'coordy_origine', 'epsg_origine', 'nom_circonscription', 'latitude', 'longitude', 'precision_localisation', 'date_ouverture', 'date_maj_ligne', 'etat', 'ministere_tutelle', 'multi_uai', 'rpi_concentre', 'rpi_disperse', 'code_nature', 'libelle_nature', 'code_type_contrat_prive', 'pial', 'etablissement_mere', 'type_rattachement_etablissement_mere', 'code_circonscription', 'code_zone_animation_pedagogique', 'libelle_zone_animation_pedagogique', 'code_bassin_formation', 'libelle_bassin_formation', 'index_right', 'cleabs', 'code_insee', 'code_insee_de_l_arrondissement', 'code_insee_de_la_collectivite_terr', 'code_insee_du_departement', 'code_insee_de_la_region', 'population', 'surface_en_ha', 'date_creation', 'date_modification', 'date_d_apparition', 'date_de_confirmation', 'code_postal_right', 'nom_officiel', 'chef_lieu_d_arrondissement', 'chef_lieu_de_collectivite_terr', 'chef_lieu_de_departement', 'chef_lieu_de_region', 'capitale_d_etat', 'date_du_recensement', 'organisme_recenseur', 'codes_siren_des_epci', 'lien_vers_chef_lieu', 'liens_vers_autorite_administrative', 'code_siren', 'geometry']\n",
      "Type de géométrie: ['Point']\n",
      "CRS: EPSG:4326\n",
      "\n",
      "=== Couche: bdtopo_batiment ===\n",
      "Nombre d'objets: 11629\n",
      "Colonnes disponibles: ['cleabs_left', 'nature', 'usage_1', 'usage_2', 'construction_legere', 'etat_de_l_objet', 'date_creation_left', 'date_modification_left', 'date_d_apparition_left', 'date_de_confirmation_left', 'sources', 'identifiants_sources', 'methode_d_acquisition_planimetrique', 'methode_d_acquisition_altimetrique', 'precision_planimetrique', 'precision_altimetrique', 'nombre_de_logements', 'nombre_d_etages', 'materiaux_des_murs', 'materiaux_de_la_toiture', 'hauteur', 'altitude_minimale_sol', 'altitude_minimale_toit', 'altitude_maximale_toit', 'altitude_maximale_sol', 'origine_du_batiment', 'appariement_fichiers_fonciers', 'identifiants_rnb', 'index_right', 'cleabs_right', 'code_insee', 'code_insee_de_l_arrondissement', 'code_insee_de_la_collectivite_terr', 'code_insee_du_departement', 'code_insee_de_la_region', 'population', 'surface_en_ha', 'date_creation_right', 'date_modification_right', 'date_d_apparition_right', 'date_de_confirmation_right', 'code_postal', 'nom_officiel', 'chef_lieu_d_arrondissement', 'chef_lieu_de_collectivite_terr', 'chef_lieu_de_departement', 'chef_lieu_de_region', 'capitale_d_etat', 'date_du_recensement', 'organisme_recenseur', 'codes_siren_des_epci', 'lien_vers_chef_lieu', 'liens_vers_autorite_administrative', 'code_siren', 'geometry']\n",
      "Type de géométrie: ['MultiPolygon']\n",
      "CRS: EPSG:4326\n",
      "\n",
      "=== Couche: bdtopo_education ===\n",
      "Nombre d'objets: 137\n",
      "Colonnes disponibles: ['cleabs_left', 'categorie', 'nature', 'nature_detaillee', 'toponyme', 'statut_du_toponyme', 'importance', 'fictif', 'etat_de_l_objet', 'date_creation_left', 'date_modification_left', 'date_d_apparition_left', 'date_de_confirmation_left', 'sources', 'identifiants_sources', 'methode_d_acquisition_planimetrique', 'precision_planimetrique', 'identifiant_voie_ban', 'nom_commercial', 'index_right', 'cleabs_right', 'code_insee', 'code_insee_de_l_arrondissement', 'code_insee_de_la_collectivite_terr', 'code_insee_du_departement', 'code_insee_de_la_region', 'population', 'surface_en_ha', 'date_creation_right', 'date_modification_right', 'date_d_apparition_right', 'date_de_confirmation_right', 'code_postal', 'nom_officiel', 'chef_lieu_d_arrondissement', 'chef_lieu_de_collectivite_terr', 'chef_lieu_de_departement', 'chef_lieu_de_region', 'capitale_d_etat', 'date_du_recensement', 'organisme_recenseur', 'codes_siren_des_epci', 'lien_vers_chef_lieu', 'liens_vers_autorite_administrative', 'code_siren', 'geometry']\n",
      "Type de géométrie: ['MultiPolygon']\n",
      "CRS: EPSG:4326\n",
      "\n",
      "=== Couche: cadastre_parcellaire ===\n",
      "Nombre d'objets: 12199\n",
      "Colonnes disponibles: ['TYPE', 'index_right', 'cleabs', 'code_insee', 'code_insee_de_l_arrondissement', 'code_insee_de_la_collectivite_terr', 'code_insee_du_departement', 'code_insee_de_la_region', 'population', 'surface_en_ha', 'date_creation', 'date_modification', 'date_d_apparition', 'date_de_confirmation', 'code_postal', 'nom_officiel', 'chef_lieu_d_arrondissement', 'chef_lieu_de_collectivite_terr', 'chef_lieu_de_departement', 'chef_lieu_de_region', 'capitale_d_etat', 'date_du_recensement', 'organisme_recenseur', 'codes_siren_des_epci', 'lien_vers_chef_lieu', 'liens_vers_autorite_administrative', 'code_siren', 'geometry']\n",
      "Type de géométrie: ['Polygon']\n",
      "CRS: EPSG:4326\n"
     ]
    }
   ],
   "source": [
    "import geopandas as gpd\n",
    "import fiona\n",
    "\n",
    "gpkg_path = DATA_FOLDER / \"saint_denis_reference_data.gpkg\"\n",
    "layers = fiona.listlayers(gpkg_path)\n",
    "\n",
    "for layer in layers:\n",
    "    gdf = gpd.read_file(gpkg_path, layer=layer)\n",
    "    print(f\"\\n=== Couche: {layer} ===\")\n",
    "    print(f\"Nombre d'objets: {len(gdf)}\")\n",
    "    print(f\"Colonnes disponibles: {gdf.columns.tolist()}\")\n",
    "    print(f\"Type de géométrie: {gdf.geometry.geom_type.unique()}\")\n",
    "    print(f\"CRS: {gdf.crs}\")"
   ]
  }
 ],
 "metadata": {
  "kernelspec": {
   "display_name": "potentiel-solaire-VqVdMU7S-py3.13",
   "language": "python",
   "name": "python3"
  },
  "language_info": {
   "codemirror_mode": {
    "name": "ipython",
    "version": 3
   },
   "file_extension": ".py",
   "mimetype": "text/x-python",
   "name": "python",
   "nbconvert_exporter": "python",
   "pygments_lexer": "ipython3",
   "version": "3.13.1"
  }
 },
 "nbformat": 4,
 "nbformat_minor": 2
}
