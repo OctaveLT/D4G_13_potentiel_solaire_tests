{
 "cells": [
  {
   "cell_type": "code",
   "execution_count": 1,
   "metadata": {},
   "outputs": [],
   "source": [
    "%load_ext autoreload\n",
    "%autoreload 2"
   ]
  },
  {
   "cell_type": "markdown",
   "metadata": {},
   "source": [
    "# Exploration WMS de la couche potentiel solaire"
   ]
  },
  {
   "cell_type": "code",
   "execution_count": null,
   "metadata": {},
   "outputs": [],
   "source": [
    "# Executer ci dessous ci besoin pour récupérer les données\n",
    "# !extract-sample-data\n",
    "# Et pour sauver une version markdown des notebooks, utiliser\n",
    "# jupyter nbconvert wms_potentiel_solaire.ipynb --to markdown --output-dir=exports/"
   ]
  },
  {
   "cell_type": "code",
   "execution_count": 2,
   "metadata": {},
   "outputs": [],
   "source": [
    "from owslib.wms import WebMapService\n",
    "\n",
    "import geopandas as gpd\n",
    "import pandas as pd\n",
    "import matplotlib.pyplot as plt\n",
    "import contextily as cx\n",
    "from shapely.affinity import translate\n",
    "from shapely.ops import unary_union\n",
    "from shapely import intersection\n",
    "from pathlib import Path\n",
    "import numpy as np\n",
    "\n",
    "import warnings\n",
    "warnings.filterwarnings('ignore') "
   ]
  },
  {
   "cell_type": "code",
   "execution_count": null,
   "metadata": {},
   "outputs": [],
   "source": [
    "import rasterio\n",
    "from io import BytesIO\n",
    "from rasterio.plot import show\n",
    "from rasterio import MemoryFile\n",
    "from rasterio.plot import show"
   ]
  },
  {
   "cell_type": "code",
   "execution_count": null,
   "metadata": {},
   "outputs": [],
   "source": [
    "import owslib\n",
    "owslib.__version__"
   ]
  },
  {
   "cell_type": "markdown",
   "metadata": {},
   "source": [
    "# Récupération data d'une école"
   ]
  },
  {
   "cell_type": "code",
   "execution_count": null,
   "metadata": {},
   "outputs": [],
   "source": [
    "DATA_FOLDER = Path(\"../data\")\n",
    "\n",
    "saint_denis_path = DATA_FOLDER / \"saint_denis_reference_data.gpkg\"\n",
    "\n",
    "ecoles = gpd.read_file(saint_denis_path, layer=\"bdtopo_education\").to_crs(2154)\n",
    "batiments = gpd.read_file(saint_denis_path, layer=\"bdtopo_batiment\").to_crs(2154)\n",
    "\n",
    "ID = \"SURFACTI0000000002555648\"\n",
    "\n",
    "batiments_ecole = batiments[batiments.cleabs_left__zone == ID]\n",
    "boite = batiments_ecole.geometry.total_bounds\n",
    "batiments_ecole.plot()"
   ]
  },
  {
   "cell_type": "markdown",
   "metadata": {},
   "source": [
    "# Definitions WMS"
   ]
  },
  {
   "cell_type": "code",
   "execution_count": null,
   "metadata": {},
   "outputs": [],
   "source": [
    "# https://geoservices.ign.fr/services-web-experts-energies-renouvelables\n",
    "# url = 'https://data.geopf.fr/annexes/ressources/wms-r/enr.xml'\n",
    "url = \"https://data.geopf.fr/wms-r/wms?SERVICE=WMS&\"\n",
    "wms = WebMapService(url, version='1.3.0')\n",
    "layer= 'IRRADIATION.SOLAIRE'"
   ]
  },
  {
   "cell_type": "markdown",
   "metadata": {},
   "source": [
    "# On commence par la France"
   ]
  },
  {
   "cell_type": "code",
   "execution_count": null,
   "metadata": {},
   "outputs": [],
   "source": [
    "minx = -667916\n",
    "maxx = 1113194\n",
    "miny = 5012341\n",
    "maxy = 6800125\n",
    "espg = \"3857\"\n",
    "Y = (maxy-miny)//2000\n",
    "X = (maxx-minx)//2000\n",
    "print(X,Y)"
   ]
  },
  {
   "cell_type": "code",
   "execution_count": 145,
   "metadata": {},
   "outputs": [],
   "source": [
    "img = wms.getmap(layers = [layer], srs = 'EPSG:3857', bbox = [minx,miny,maxx,maxy] , size = (X, Y), format= 'image/geotiff',transparent=True,mode='32bit')"
   ]
  },
  {
   "cell_type": "code",
   "execution_count": null,
   "metadata": {},
   "outputs": [],
   "source": [
    "with MemoryFile(img) as memfile:\n",
    "    with memfile.open() as dataset:\n",
    "        metas = dataset.meta\n",
    "        show(dataset)"
   ]
  },
  {
   "cell_type": "code",
   "execution_count": null,
   "metadata": {},
   "outputs": [],
   "source": [
    "allImgs = []\n",
    "with rasterio.open(BytesIO(img.read())) as r:\n",
    "    for k in range(3):\n",
    "        thing = r.read(k+1)\n",
    "        allImgs.append(thing)\n",
    "        show(thing, cmap='pink',title=\"Band \"+str(k+1))"
   ]
  },
  {
   "cell_type": "code",
   "execution_count": null,
   "metadata": {},
   "outputs": [],
   "source": [
    "metas"
   ]
  },
  {
   "cell_type": "markdown",
   "metadata": {},
   "source": [
    "On a bien la France mais pas l'échelle."
   ]
  },
  {
   "cell_type": "markdown",
   "metadata": {},
   "source": [
    "# Pour l'école"
   ]
  },
  {
   "cell_type": "code",
   "execution_count": null,
   "metadata": {},
   "outputs": [],
   "source": [
    "print(boite)\n",
    "\n",
    "x1new = int(boite[0])\n",
    "x2new = int(boite[2])\n",
    "\n",
    "y1new =  int(boite[1])\n",
    "y2new =  int(boite[3])\n",
    "\n",
    "X = (x2new - x1new)*5\n",
    "Y = (y2new - y1new)*5\n",
    "\n",
    "layer= 'IRRADIATION.SOLAIRE'\n",
    "#layer= \"POTENTIEL.VENT.140M\"\n",
    "imgEcole = wms.getmap(layers = [layer], srs = 'EPSG:2154', bbox = [x1new,y1new,x2new,y2new] , size = (X, Y), format= 'image/geotiff')\n",
    "\n",
    "with MemoryFile(imgEcole) as memfile:\n",
    "     with memfile.open() as dataset:\n",
    "            A = dataset\n",
    "            show(dataset)"
   ]
  }
 ],
 "metadata": {
  "kernelspec": {
   "display_name": ".venv",
   "language": "python",
   "name": "python3"
  },
  "language_info": {
   "codemirror_mode": {
    "name": "ipython",
    "version": 3
   },
   "file_extension": ".py",
   "mimetype": "text/x-python",
   "name": "python",
   "nbconvert_exporter": "python",
   "pygments_lexer": "ipython3",
   "version": "3.10.12"
  }
 },
 "nbformat": 4,
 "nbformat_minor": 2
}
